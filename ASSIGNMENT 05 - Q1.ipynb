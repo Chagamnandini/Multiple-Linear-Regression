{
 "cells": [
  {
   "cell_type": "code",
   "execution_count": 1,
   "id": "386b4b50",
   "metadata": {},
   "outputs": [],
   "source": [
    "import pandas as pd\n",
    "import numpy as np\n",
    "import matplotlib.pyplot as plt\n",
    "import seaborn as sns\n",
    "from sklearn.model_selection import train_test_split\n",
    "from sklearn.model_selection import cross_val_score\n",
    "from sklearn.tree import DecisionTreeRegressor\n",
    "from sklearn.ensemble import RandomForestRegressor\n",
    "from sklearn.metrics import r2_score,mean_squared_error\n",
    "from sklearn.preprocessing import StandardScaler\n",
    "from sklearn.linear_model import LinearRegression,Ridge,Lasso"
   ]
  },
  {
   "cell_type": "code",
   "execution_count": 2,
   "id": "4ffa070c",
   "metadata": {},
   "outputs": [
    {
     "data": {
      "text/html": [
       "<div>\n",
       "<style scoped>\n",
       "    .dataframe tbody tr th:only-of-type {\n",
       "        vertical-align: middle;\n",
       "    }\n",
       "\n",
       "    .dataframe tbody tr th {\n",
       "        vertical-align: top;\n",
       "    }\n",
       "\n",
       "    .dataframe thead th {\n",
       "        text-align: right;\n",
       "    }\n",
       "</style>\n",
       "<table border=\"1\" class=\"dataframe\">\n",
       "  <thead>\n",
       "    <tr style=\"text-align: right;\">\n",
       "      <th></th>\n",
       "      <th>R&amp;D Spend</th>\n",
       "      <th>Administration</th>\n",
       "      <th>Marketing Spend</th>\n",
       "      <th>State</th>\n",
       "      <th>Profit</th>\n",
       "    </tr>\n",
       "  </thead>\n",
       "  <tbody>\n",
       "    <tr>\n",
       "      <th>0</th>\n",
       "      <td>165349.20</td>\n",
       "      <td>136897.80</td>\n",
       "      <td>471784.10</td>\n",
       "      <td>New York</td>\n",
       "      <td>192261.83</td>\n",
       "    </tr>\n",
       "    <tr>\n",
       "      <th>1</th>\n",
       "      <td>162597.70</td>\n",
       "      <td>151377.59</td>\n",
       "      <td>443898.53</td>\n",
       "      <td>California</td>\n",
       "      <td>191792.06</td>\n",
       "    </tr>\n",
       "    <tr>\n",
       "      <th>2</th>\n",
       "      <td>153441.51</td>\n",
       "      <td>101145.55</td>\n",
       "      <td>407934.54</td>\n",
       "      <td>Florida</td>\n",
       "      <td>191050.39</td>\n",
       "    </tr>\n",
       "    <tr>\n",
       "      <th>3</th>\n",
       "      <td>144372.41</td>\n",
       "      <td>118671.85</td>\n",
       "      <td>383199.62</td>\n",
       "      <td>New York</td>\n",
       "      <td>182901.99</td>\n",
       "    </tr>\n",
       "    <tr>\n",
       "      <th>4</th>\n",
       "      <td>142107.34</td>\n",
       "      <td>91391.77</td>\n",
       "      <td>366168.42</td>\n",
       "      <td>Florida</td>\n",
       "      <td>166187.94</td>\n",
       "    </tr>\n",
       "  </tbody>\n",
       "</table>\n",
       "</div>"
      ],
      "text/plain": [
       "   R&D Spend  Administration  Marketing Spend       State     Profit\n",
       "0  165349.20       136897.80        471784.10    New York  192261.83\n",
       "1  162597.70       151377.59        443898.53  California  191792.06\n",
       "2  153441.51       101145.55        407934.54     Florida  191050.39\n",
       "3  144372.41       118671.85        383199.62    New York  182901.99\n",
       "4  142107.34        91391.77        366168.42     Florida  166187.94"
      ]
     },
     "execution_count": 2,
     "metadata": {},
     "output_type": "execute_result"
    }
   ],
   "source": [
    "data = pd.read_csv('50_Startups.csv')\n",
    "data.head()"
   ]
  },
  {
   "cell_type": "markdown",
   "id": "6a1bd226",
   "metadata": {},
   "source": [
    "### Data Preprocessing"
   ]
  },
  {
   "cell_type": "code",
   "execution_count": 3,
   "id": "245e7872",
   "metadata": {},
   "outputs": [
    {
     "data": {
      "text/plain": [
       "<bound method DataFrame.info of     R&D Spend  Administration  Marketing Spend       State     Profit\n",
       "0   165349.20       136897.80        471784.10    New York  192261.83\n",
       "1   162597.70       151377.59        443898.53  California  191792.06\n",
       "2   153441.51       101145.55        407934.54     Florida  191050.39\n",
       "3   144372.41       118671.85        383199.62    New York  182901.99\n",
       "4   142107.34        91391.77        366168.42     Florida  166187.94\n",
       "5   131876.90        99814.71        362861.36    New York  156991.12\n",
       "6   134615.46       147198.87        127716.82  California  156122.51\n",
       "7   130298.13       145530.06        323876.68     Florida  155752.60\n",
       "8   120542.52       148718.95        311613.29    New York  152211.77\n",
       "9   123334.88       108679.17        304981.62  California  149759.96\n",
       "10  101913.08       110594.11        229160.95     Florida  146121.95\n",
       "11  100671.96        91790.61        249744.55  California  144259.40\n",
       "12   93863.75       127320.38        249839.44     Florida  141585.52\n",
       "13   91992.39       135495.07        252664.93  California  134307.35\n",
       "14  119943.24       156547.42        256512.92     Florida  132602.65\n",
       "15  114523.61       122616.84        261776.23    New York  129917.04\n",
       "16   78013.11       121597.55        264346.06  California  126992.93\n",
       "17   94657.16       145077.58        282574.31    New York  125370.37\n",
       "18   91749.16       114175.79        294919.57     Florida  124266.90\n",
       "19   86419.70       153514.11             0.00    New York  122776.86\n",
       "20   76253.86       113867.30        298664.47  California  118474.03\n",
       "21   78389.47       153773.43        299737.29    New York  111313.02\n",
       "22   73994.56       122782.75        303319.26     Florida  110352.25\n",
       "23   67532.53       105751.03        304768.73     Florida  108733.99\n",
       "24   77044.01        99281.34        140574.81    New York  108552.04\n",
       "25   64664.71       139553.16        137962.62  California  107404.34\n",
       "26   75328.87       144135.98        134050.07     Florida  105733.54\n",
       "27   72107.60       127864.55        353183.81    New York  105008.31\n",
       "28   66051.52       182645.56        118148.20     Florida  103282.38\n",
       "29   65605.48       153032.06        107138.38    New York  101004.64\n",
       "30   61994.48       115641.28         91131.24     Florida   99937.59\n",
       "31   61136.38       152701.92         88218.23    New York   97483.56\n",
       "32   63408.86       129219.61         46085.25  California   97427.84\n",
       "33   55493.95       103057.49        214634.81     Florida   96778.92\n",
       "34   46426.07       157693.92        210797.67  California   96712.80\n",
       "35   46014.02        85047.44        205517.64    New York   96479.51\n",
       "36   28663.76       127056.21        201126.82     Florida   90708.19\n",
       "37   44069.95        51283.14        197029.42  California   89949.14\n",
       "38   20229.59        65947.93        185265.10    New York   81229.06\n",
       "39   38558.51        82982.09        174999.30  California   81005.76\n",
       "40   28754.33       118546.05        172795.67  California   78239.91\n",
       "41   27892.92        84710.77        164470.71     Florida   77798.83\n",
       "42   23640.93        96189.63        148001.11  California   71498.49\n",
       "43   15505.73       127382.30         35534.17    New York   69758.98\n",
       "44   22177.74       154806.14         28334.72  California   65200.33\n",
       "45    1000.23       124153.04          1903.93    New York   64926.08\n",
       "46    1315.46       115816.21        297114.46     Florida   49490.75\n",
       "47       0.00       135426.92             0.00  California   42559.73\n",
       "48     542.05        51743.15             0.00    New York   35673.41\n",
       "49       0.00       116983.80         45173.06  California   14681.40>"
      ]
     },
     "execution_count": 3,
     "metadata": {},
     "output_type": "execute_result"
    }
   ],
   "source": [
    "data.info"
   ]
  },
  {
   "cell_type": "code",
   "execution_count": 4,
   "id": "a2a7527d",
   "metadata": {},
   "outputs": [
    {
     "data": {
      "text/plain": [
       "(50, 5)"
      ]
     },
     "execution_count": 4,
     "metadata": {},
     "output_type": "execute_result"
    }
   ],
   "source": [
    "data.shape"
   ]
  },
  {
   "cell_type": "code",
   "execution_count": 5,
   "id": "df74224e",
   "metadata": {},
   "outputs": [
    {
     "data": {
      "text/plain": [
       "R&D Spend          0\n",
       "Administration     0\n",
       "Marketing Spend    0\n",
       "State              0\n",
       "Profit             0\n",
       "dtype: int64"
      ]
     },
     "execution_count": 5,
     "metadata": {},
     "output_type": "execute_result"
    }
   ],
   "source": [
    "data.isnull().sum()"
   ]
  },
  {
   "cell_type": "code",
   "execution_count": 6,
   "id": "aa70f801",
   "metadata": {},
   "outputs": [
    {
     "data": {
      "text/plain": [
       "R&D Spend          float64\n",
       "Administration     float64\n",
       "Marketing Spend    float64\n",
       "State               object\n",
       "Profit             float64\n",
       "dtype: object"
      ]
     },
     "execution_count": 6,
     "metadata": {},
     "output_type": "execute_result"
    }
   ],
   "source": [
    "data.dtypes"
   ]
  },
  {
   "cell_type": "code",
   "execution_count": 7,
   "id": "6f6fbb41",
   "metadata": {},
   "outputs": [
    {
     "data": {
      "text/html": [
       "<div>\n",
       "<style scoped>\n",
       "    .dataframe tbody tr th:only-of-type {\n",
       "        vertical-align: middle;\n",
       "    }\n",
       "\n",
       "    .dataframe tbody tr th {\n",
       "        vertical-align: top;\n",
       "    }\n",
       "\n",
       "    .dataframe thead th {\n",
       "        text-align: right;\n",
       "    }\n",
       "</style>\n",
       "<table border=\"1\" class=\"dataframe\">\n",
       "  <thead>\n",
       "    <tr style=\"text-align: right;\">\n",
       "      <th></th>\n",
       "      <th>R&amp;D Spend</th>\n",
       "      <th>Administration</th>\n",
       "      <th>Marketing Spend</th>\n",
       "      <th>Profit</th>\n",
       "      <th>State_California</th>\n",
       "      <th>State_Florida</th>\n",
       "      <th>State_New York</th>\n",
       "    </tr>\n",
       "  </thead>\n",
       "  <tbody>\n",
       "    <tr>\n",
       "      <th>0</th>\n",
       "      <td>165349.20</td>\n",
       "      <td>136897.80</td>\n",
       "      <td>471784.10</td>\n",
       "      <td>192261.83</td>\n",
       "      <td>0</td>\n",
       "      <td>0</td>\n",
       "      <td>1</td>\n",
       "    </tr>\n",
       "    <tr>\n",
       "      <th>1</th>\n",
       "      <td>162597.70</td>\n",
       "      <td>151377.59</td>\n",
       "      <td>443898.53</td>\n",
       "      <td>191792.06</td>\n",
       "      <td>1</td>\n",
       "      <td>0</td>\n",
       "      <td>0</td>\n",
       "    </tr>\n",
       "    <tr>\n",
       "      <th>2</th>\n",
       "      <td>153441.51</td>\n",
       "      <td>101145.55</td>\n",
       "      <td>407934.54</td>\n",
       "      <td>191050.39</td>\n",
       "      <td>0</td>\n",
       "      <td>1</td>\n",
       "      <td>0</td>\n",
       "    </tr>\n",
       "    <tr>\n",
       "      <th>3</th>\n",
       "      <td>144372.41</td>\n",
       "      <td>118671.85</td>\n",
       "      <td>383199.62</td>\n",
       "      <td>182901.99</td>\n",
       "      <td>0</td>\n",
       "      <td>0</td>\n",
       "      <td>1</td>\n",
       "    </tr>\n",
       "    <tr>\n",
       "      <th>4</th>\n",
       "      <td>142107.34</td>\n",
       "      <td>91391.77</td>\n",
       "      <td>366168.42</td>\n",
       "      <td>166187.94</td>\n",
       "      <td>0</td>\n",
       "      <td>1</td>\n",
       "      <td>0</td>\n",
       "    </tr>\n",
       "    <tr>\n",
       "      <th>5</th>\n",
       "      <td>131876.90</td>\n",
       "      <td>99814.71</td>\n",
       "      <td>362861.36</td>\n",
       "      <td>156991.12</td>\n",
       "      <td>0</td>\n",
       "      <td>0</td>\n",
       "      <td>1</td>\n",
       "    </tr>\n",
       "    <tr>\n",
       "      <th>6</th>\n",
       "      <td>134615.46</td>\n",
       "      <td>147198.87</td>\n",
       "      <td>127716.82</td>\n",
       "      <td>156122.51</td>\n",
       "      <td>1</td>\n",
       "      <td>0</td>\n",
       "      <td>0</td>\n",
       "    </tr>\n",
       "    <tr>\n",
       "      <th>7</th>\n",
       "      <td>130298.13</td>\n",
       "      <td>145530.06</td>\n",
       "      <td>323876.68</td>\n",
       "      <td>155752.60</td>\n",
       "      <td>0</td>\n",
       "      <td>1</td>\n",
       "      <td>0</td>\n",
       "    </tr>\n",
       "    <tr>\n",
       "      <th>8</th>\n",
       "      <td>120542.52</td>\n",
       "      <td>148718.95</td>\n",
       "      <td>311613.29</td>\n",
       "      <td>152211.77</td>\n",
       "      <td>0</td>\n",
       "      <td>0</td>\n",
       "      <td>1</td>\n",
       "    </tr>\n",
       "    <tr>\n",
       "      <th>9</th>\n",
       "      <td>123334.88</td>\n",
       "      <td>108679.17</td>\n",
       "      <td>304981.62</td>\n",
       "      <td>149759.96</td>\n",
       "      <td>1</td>\n",
       "      <td>0</td>\n",
       "      <td>0</td>\n",
       "    </tr>\n",
       "    <tr>\n",
       "      <th>10</th>\n",
       "      <td>101913.08</td>\n",
       "      <td>110594.11</td>\n",
       "      <td>229160.95</td>\n",
       "      <td>146121.95</td>\n",
       "      <td>0</td>\n",
       "      <td>1</td>\n",
       "      <td>0</td>\n",
       "    </tr>\n",
       "    <tr>\n",
       "      <th>11</th>\n",
       "      <td>100671.96</td>\n",
       "      <td>91790.61</td>\n",
       "      <td>249744.55</td>\n",
       "      <td>144259.40</td>\n",
       "      <td>1</td>\n",
       "      <td>0</td>\n",
       "      <td>0</td>\n",
       "    </tr>\n",
       "    <tr>\n",
       "      <th>12</th>\n",
       "      <td>93863.75</td>\n",
       "      <td>127320.38</td>\n",
       "      <td>249839.44</td>\n",
       "      <td>141585.52</td>\n",
       "      <td>0</td>\n",
       "      <td>1</td>\n",
       "      <td>0</td>\n",
       "    </tr>\n",
       "    <tr>\n",
       "      <th>13</th>\n",
       "      <td>91992.39</td>\n",
       "      <td>135495.07</td>\n",
       "      <td>252664.93</td>\n",
       "      <td>134307.35</td>\n",
       "      <td>1</td>\n",
       "      <td>0</td>\n",
       "      <td>0</td>\n",
       "    </tr>\n",
       "    <tr>\n",
       "      <th>14</th>\n",
       "      <td>119943.24</td>\n",
       "      <td>156547.42</td>\n",
       "      <td>256512.92</td>\n",
       "      <td>132602.65</td>\n",
       "      <td>0</td>\n",
       "      <td>1</td>\n",
       "      <td>0</td>\n",
       "    </tr>\n",
       "    <tr>\n",
       "      <th>15</th>\n",
       "      <td>114523.61</td>\n",
       "      <td>122616.84</td>\n",
       "      <td>261776.23</td>\n",
       "      <td>129917.04</td>\n",
       "      <td>0</td>\n",
       "      <td>0</td>\n",
       "      <td>1</td>\n",
       "    </tr>\n",
       "    <tr>\n",
       "      <th>16</th>\n",
       "      <td>78013.11</td>\n",
       "      <td>121597.55</td>\n",
       "      <td>264346.06</td>\n",
       "      <td>126992.93</td>\n",
       "      <td>1</td>\n",
       "      <td>0</td>\n",
       "      <td>0</td>\n",
       "    </tr>\n",
       "    <tr>\n",
       "      <th>17</th>\n",
       "      <td>94657.16</td>\n",
       "      <td>145077.58</td>\n",
       "      <td>282574.31</td>\n",
       "      <td>125370.37</td>\n",
       "      <td>0</td>\n",
       "      <td>0</td>\n",
       "      <td>1</td>\n",
       "    </tr>\n",
       "    <tr>\n",
       "      <th>18</th>\n",
       "      <td>91749.16</td>\n",
       "      <td>114175.79</td>\n",
       "      <td>294919.57</td>\n",
       "      <td>124266.90</td>\n",
       "      <td>0</td>\n",
       "      <td>1</td>\n",
       "      <td>0</td>\n",
       "    </tr>\n",
       "    <tr>\n",
       "      <th>19</th>\n",
       "      <td>86419.70</td>\n",
       "      <td>153514.11</td>\n",
       "      <td>0.00</td>\n",
       "      <td>122776.86</td>\n",
       "      <td>0</td>\n",
       "      <td>0</td>\n",
       "      <td>1</td>\n",
       "    </tr>\n",
       "    <tr>\n",
       "      <th>20</th>\n",
       "      <td>76253.86</td>\n",
       "      <td>113867.30</td>\n",
       "      <td>298664.47</td>\n",
       "      <td>118474.03</td>\n",
       "      <td>1</td>\n",
       "      <td>0</td>\n",
       "      <td>0</td>\n",
       "    </tr>\n",
       "    <tr>\n",
       "      <th>21</th>\n",
       "      <td>78389.47</td>\n",
       "      <td>153773.43</td>\n",
       "      <td>299737.29</td>\n",
       "      <td>111313.02</td>\n",
       "      <td>0</td>\n",
       "      <td>0</td>\n",
       "      <td>1</td>\n",
       "    </tr>\n",
       "    <tr>\n",
       "      <th>22</th>\n",
       "      <td>73994.56</td>\n",
       "      <td>122782.75</td>\n",
       "      <td>303319.26</td>\n",
       "      <td>110352.25</td>\n",
       "      <td>0</td>\n",
       "      <td>1</td>\n",
       "      <td>0</td>\n",
       "    </tr>\n",
       "    <tr>\n",
       "      <th>23</th>\n",
       "      <td>67532.53</td>\n",
       "      <td>105751.03</td>\n",
       "      <td>304768.73</td>\n",
       "      <td>108733.99</td>\n",
       "      <td>0</td>\n",
       "      <td>1</td>\n",
       "      <td>0</td>\n",
       "    </tr>\n",
       "    <tr>\n",
       "      <th>24</th>\n",
       "      <td>77044.01</td>\n",
       "      <td>99281.34</td>\n",
       "      <td>140574.81</td>\n",
       "      <td>108552.04</td>\n",
       "      <td>0</td>\n",
       "      <td>0</td>\n",
       "      <td>1</td>\n",
       "    </tr>\n",
       "    <tr>\n",
       "      <th>25</th>\n",
       "      <td>64664.71</td>\n",
       "      <td>139553.16</td>\n",
       "      <td>137962.62</td>\n",
       "      <td>107404.34</td>\n",
       "      <td>1</td>\n",
       "      <td>0</td>\n",
       "      <td>0</td>\n",
       "    </tr>\n",
       "    <tr>\n",
       "      <th>26</th>\n",
       "      <td>75328.87</td>\n",
       "      <td>144135.98</td>\n",
       "      <td>134050.07</td>\n",
       "      <td>105733.54</td>\n",
       "      <td>0</td>\n",
       "      <td>1</td>\n",
       "      <td>0</td>\n",
       "    </tr>\n",
       "    <tr>\n",
       "      <th>27</th>\n",
       "      <td>72107.60</td>\n",
       "      <td>127864.55</td>\n",
       "      <td>353183.81</td>\n",
       "      <td>105008.31</td>\n",
       "      <td>0</td>\n",
       "      <td>0</td>\n",
       "      <td>1</td>\n",
       "    </tr>\n",
       "    <tr>\n",
       "      <th>28</th>\n",
       "      <td>66051.52</td>\n",
       "      <td>182645.56</td>\n",
       "      <td>118148.20</td>\n",
       "      <td>103282.38</td>\n",
       "      <td>0</td>\n",
       "      <td>1</td>\n",
       "      <td>0</td>\n",
       "    </tr>\n",
       "    <tr>\n",
       "      <th>29</th>\n",
       "      <td>65605.48</td>\n",
       "      <td>153032.06</td>\n",
       "      <td>107138.38</td>\n",
       "      <td>101004.64</td>\n",
       "      <td>0</td>\n",
       "      <td>0</td>\n",
       "      <td>1</td>\n",
       "    </tr>\n",
       "    <tr>\n",
       "      <th>30</th>\n",
       "      <td>61994.48</td>\n",
       "      <td>115641.28</td>\n",
       "      <td>91131.24</td>\n",
       "      <td>99937.59</td>\n",
       "      <td>0</td>\n",
       "      <td>1</td>\n",
       "      <td>0</td>\n",
       "    </tr>\n",
       "    <tr>\n",
       "      <th>31</th>\n",
       "      <td>61136.38</td>\n",
       "      <td>152701.92</td>\n",
       "      <td>88218.23</td>\n",
       "      <td>97483.56</td>\n",
       "      <td>0</td>\n",
       "      <td>0</td>\n",
       "      <td>1</td>\n",
       "    </tr>\n",
       "    <tr>\n",
       "      <th>32</th>\n",
       "      <td>63408.86</td>\n",
       "      <td>129219.61</td>\n",
       "      <td>46085.25</td>\n",
       "      <td>97427.84</td>\n",
       "      <td>1</td>\n",
       "      <td>0</td>\n",
       "      <td>0</td>\n",
       "    </tr>\n",
       "    <tr>\n",
       "      <th>33</th>\n",
       "      <td>55493.95</td>\n",
       "      <td>103057.49</td>\n",
       "      <td>214634.81</td>\n",
       "      <td>96778.92</td>\n",
       "      <td>0</td>\n",
       "      <td>1</td>\n",
       "      <td>0</td>\n",
       "    </tr>\n",
       "    <tr>\n",
       "      <th>34</th>\n",
       "      <td>46426.07</td>\n",
       "      <td>157693.92</td>\n",
       "      <td>210797.67</td>\n",
       "      <td>96712.80</td>\n",
       "      <td>1</td>\n",
       "      <td>0</td>\n",
       "      <td>0</td>\n",
       "    </tr>\n",
       "    <tr>\n",
       "      <th>35</th>\n",
       "      <td>46014.02</td>\n",
       "      <td>85047.44</td>\n",
       "      <td>205517.64</td>\n",
       "      <td>96479.51</td>\n",
       "      <td>0</td>\n",
       "      <td>0</td>\n",
       "      <td>1</td>\n",
       "    </tr>\n",
       "    <tr>\n",
       "      <th>36</th>\n",
       "      <td>28663.76</td>\n",
       "      <td>127056.21</td>\n",
       "      <td>201126.82</td>\n",
       "      <td>90708.19</td>\n",
       "      <td>0</td>\n",
       "      <td>1</td>\n",
       "      <td>0</td>\n",
       "    </tr>\n",
       "    <tr>\n",
       "      <th>37</th>\n",
       "      <td>44069.95</td>\n",
       "      <td>51283.14</td>\n",
       "      <td>197029.42</td>\n",
       "      <td>89949.14</td>\n",
       "      <td>1</td>\n",
       "      <td>0</td>\n",
       "      <td>0</td>\n",
       "    </tr>\n",
       "    <tr>\n",
       "      <th>38</th>\n",
       "      <td>20229.59</td>\n",
       "      <td>65947.93</td>\n",
       "      <td>185265.10</td>\n",
       "      <td>81229.06</td>\n",
       "      <td>0</td>\n",
       "      <td>0</td>\n",
       "      <td>1</td>\n",
       "    </tr>\n",
       "    <tr>\n",
       "      <th>39</th>\n",
       "      <td>38558.51</td>\n",
       "      <td>82982.09</td>\n",
       "      <td>174999.30</td>\n",
       "      <td>81005.76</td>\n",
       "      <td>1</td>\n",
       "      <td>0</td>\n",
       "      <td>0</td>\n",
       "    </tr>\n",
       "    <tr>\n",
       "      <th>40</th>\n",
       "      <td>28754.33</td>\n",
       "      <td>118546.05</td>\n",
       "      <td>172795.67</td>\n",
       "      <td>78239.91</td>\n",
       "      <td>1</td>\n",
       "      <td>0</td>\n",
       "      <td>0</td>\n",
       "    </tr>\n",
       "    <tr>\n",
       "      <th>41</th>\n",
       "      <td>27892.92</td>\n",
       "      <td>84710.77</td>\n",
       "      <td>164470.71</td>\n",
       "      <td>77798.83</td>\n",
       "      <td>0</td>\n",
       "      <td>1</td>\n",
       "      <td>0</td>\n",
       "    </tr>\n",
       "    <tr>\n",
       "      <th>42</th>\n",
       "      <td>23640.93</td>\n",
       "      <td>96189.63</td>\n",
       "      <td>148001.11</td>\n",
       "      <td>71498.49</td>\n",
       "      <td>1</td>\n",
       "      <td>0</td>\n",
       "      <td>0</td>\n",
       "    </tr>\n",
       "    <tr>\n",
       "      <th>43</th>\n",
       "      <td>15505.73</td>\n",
       "      <td>127382.30</td>\n",
       "      <td>35534.17</td>\n",
       "      <td>69758.98</td>\n",
       "      <td>0</td>\n",
       "      <td>0</td>\n",
       "      <td>1</td>\n",
       "    </tr>\n",
       "    <tr>\n",
       "      <th>44</th>\n",
       "      <td>22177.74</td>\n",
       "      <td>154806.14</td>\n",
       "      <td>28334.72</td>\n",
       "      <td>65200.33</td>\n",
       "      <td>1</td>\n",
       "      <td>0</td>\n",
       "      <td>0</td>\n",
       "    </tr>\n",
       "    <tr>\n",
       "      <th>45</th>\n",
       "      <td>1000.23</td>\n",
       "      <td>124153.04</td>\n",
       "      <td>1903.93</td>\n",
       "      <td>64926.08</td>\n",
       "      <td>0</td>\n",
       "      <td>0</td>\n",
       "      <td>1</td>\n",
       "    </tr>\n",
       "    <tr>\n",
       "      <th>46</th>\n",
       "      <td>1315.46</td>\n",
       "      <td>115816.21</td>\n",
       "      <td>297114.46</td>\n",
       "      <td>49490.75</td>\n",
       "      <td>0</td>\n",
       "      <td>1</td>\n",
       "      <td>0</td>\n",
       "    </tr>\n",
       "    <tr>\n",
       "      <th>47</th>\n",
       "      <td>0.00</td>\n",
       "      <td>135426.92</td>\n",
       "      <td>0.00</td>\n",
       "      <td>42559.73</td>\n",
       "      <td>1</td>\n",
       "      <td>0</td>\n",
       "      <td>0</td>\n",
       "    </tr>\n",
       "    <tr>\n",
       "      <th>48</th>\n",
       "      <td>542.05</td>\n",
       "      <td>51743.15</td>\n",
       "      <td>0.00</td>\n",
       "      <td>35673.41</td>\n",
       "      <td>0</td>\n",
       "      <td>0</td>\n",
       "      <td>1</td>\n",
       "    </tr>\n",
       "    <tr>\n",
       "      <th>49</th>\n",
       "      <td>0.00</td>\n",
       "      <td>116983.80</td>\n",
       "      <td>45173.06</td>\n",
       "      <td>14681.40</td>\n",
       "      <td>1</td>\n",
       "      <td>0</td>\n",
       "      <td>0</td>\n",
       "    </tr>\n",
       "  </tbody>\n",
       "</table>\n",
       "</div>"
      ],
      "text/plain": [
       "    R&D Spend  Administration  Marketing Spend     Profit  State_California  \\\n",
       "0   165349.20       136897.80        471784.10  192261.83                 0   \n",
       "1   162597.70       151377.59        443898.53  191792.06                 1   \n",
       "2   153441.51       101145.55        407934.54  191050.39                 0   \n",
       "3   144372.41       118671.85        383199.62  182901.99                 0   \n",
       "4   142107.34        91391.77        366168.42  166187.94                 0   \n",
       "5   131876.90        99814.71        362861.36  156991.12                 0   \n",
       "6   134615.46       147198.87        127716.82  156122.51                 1   \n",
       "7   130298.13       145530.06        323876.68  155752.60                 0   \n",
       "8   120542.52       148718.95        311613.29  152211.77                 0   \n",
       "9   123334.88       108679.17        304981.62  149759.96                 1   \n",
       "10  101913.08       110594.11        229160.95  146121.95                 0   \n",
       "11  100671.96        91790.61        249744.55  144259.40                 1   \n",
       "12   93863.75       127320.38        249839.44  141585.52                 0   \n",
       "13   91992.39       135495.07        252664.93  134307.35                 1   \n",
       "14  119943.24       156547.42        256512.92  132602.65                 0   \n",
       "15  114523.61       122616.84        261776.23  129917.04                 0   \n",
       "16   78013.11       121597.55        264346.06  126992.93                 1   \n",
       "17   94657.16       145077.58        282574.31  125370.37                 0   \n",
       "18   91749.16       114175.79        294919.57  124266.90                 0   \n",
       "19   86419.70       153514.11             0.00  122776.86                 0   \n",
       "20   76253.86       113867.30        298664.47  118474.03                 1   \n",
       "21   78389.47       153773.43        299737.29  111313.02                 0   \n",
       "22   73994.56       122782.75        303319.26  110352.25                 0   \n",
       "23   67532.53       105751.03        304768.73  108733.99                 0   \n",
       "24   77044.01        99281.34        140574.81  108552.04                 0   \n",
       "25   64664.71       139553.16        137962.62  107404.34                 1   \n",
       "26   75328.87       144135.98        134050.07  105733.54                 0   \n",
       "27   72107.60       127864.55        353183.81  105008.31                 0   \n",
       "28   66051.52       182645.56        118148.20  103282.38                 0   \n",
       "29   65605.48       153032.06        107138.38  101004.64                 0   \n",
       "30   61994.48       115641.28         91131.24   99937.59                 0   \n",
       "31   61136.38       152701.92         88218.23   97483.56                 0   \n",
       "32   63408.86       129219.61         46085.25   97427.84                 1   \n",
       "33   55493.95       103057.49        214634.81   96778.92                 0   \n",
       "34   46426.07       157693.92        210797.67   96712.80                 1   \n",
       "35   46014.02        85047.44        205517.64   96479.51                 0   \n",
       "36   28663.76       127056.21        201126.82   90708.19                 0   \n",
       "37   44069.95        51283.14        197029.42   89949.14                 1   \n",
       "38   20229.59        65947.93        185265.10   81229.06                 0   \n",
       "39   38558.51        82982.09        174999.30   81005.76                 1   \n",
       "40   28754.33       118546.05        172795.67   78239.91                 1   \n",
       "41   27892.92        84710.77        164470.71   77798.83                 0   \n",
       "42   23640.93        96189.63        148001.11   71498.49                 1   \n",
       "43   15505.73       127382.30         35534.17   69758.98                 0   \n",
       "44   22177.74       154806.14         28334.72   65200.33                 1   \n",
       "45    1000.23       124153.04          1903.93   64926.08                 0   \n",
       "46    1315.46       115816.21        297114.46   49490.75                 0   \n",
       "47       0.00       135426.92             0.00   42559.73                 1   \n",
       "48     542.05        51743.15             0.00   35673.41                 0   \n",
       "49       0.00       116983.80         45173.06   14681.40                 1   \n",
       "\n",
       "    State_Florida  State_New York  \n",
       "0               0               1  \n",
       "1               0               0  \n",
       "2               1               0  \n",
       "3               0               1  \n",
       "4               1               0  \n",
       "5               0               1  \n",
       "6               0               0  \n",
       "7               1               0  \n",
       "8               0               1  \n",
       "9               0               0  \n",
       "10              1               0  \n",
       "11              0               0  \n",
       "12              1               0  \n",
       "13              0               0  \n",
       "14              1               0  \n",
       "15              0               1  \n",
       "16              0               0  \n",
       "17              0               1  \n",
       "18              1               0  \n",
       "19              0               1  \n",
       "20              0               0  \n",
       "21              0               1  \n",
       "22              1               0  \n",
       "23              1               0  \n",
       "24              0               1  \n",
       "25              0               0  \n",
       "26              1               0  \n",
       "27              0               1  \n",
       "28              1               0  \n",
       "29              0               1  \n",
       "30              1               0  \n",
       "31              0               1  \n",
       "32              0               0  \n",
       "33              1               0  \n",
       "34              0               0  \n",
       "35              0               1  \n",
       "36              1               0  \n",
       "37              0               0  \n",
       "38              0               1  \n",
       "39              0               0  \n",
       "40              0               0  \n",
       "41              1               0  \n",
       "42              0               0  \n",
       "43              0               1  \n",
       "44              0               0  \n",
       "45              0               1  \n",
       "46              1               0  \n",
       "47              0               0  \n",
       "48              0               1  \n",
       "49              0               0  "
      ]
     },
     "execution_count": 7,
     "metadata": {},
     "output_type": "execute_result"
    }
   ],
   "source": [
    "data = pd.get_dummies(data, columns=['State'])\n",
    "data"
   ]
  },
  {
   "cell_type": "code",
   "execution_count": 8,
   "id": "778fd626",
   "metadata": {},
   "outputs": [
    {
     "data": {
      "text/plain": [
       "<matplotlib.collections.PathCollection at 0x20ed2be7a90>"
      ]
     },
     "execution_count": 8,
     "metadata": {},
     "output_type": "execute_result"
    },
    {
     "data": {
      "image/png": "[encoded data removed]",
      "text/plain": [
       "<Figure size 432x288 with 1 Axes>"
      ]
     },
     "metadata": {
      "needs_background": "light"
     },
     "output_type": "display_data"
    }
   ],
   "source": [
    "plt.scatter(x=data['R&D Spend'], y=data['Profit'])"
   ]
  },
  {
   "cell_type": "code",
   "execution_count": 9,
   "id": "1324b728",
   "metadata": {},
   "outputs": [
    {
     "data": {
      "text/plain": [
       "<matplotlib.collections.PathCollection at 0x20ed33700d0>"
      ]
     },
     "execution_count": 9,
     "metadata": {},
     "output_type": "execute_result"
    },
    {
     "data": {
      "image/png": "[encoded data removed]",
      "text/plain": [
       "<Figure size 432x288 with 1 Axes>"
      ]
     },
     "metadata": {
      "needs_background": "light"
     },
     "output_type": "display_data"
    }
   ],
   "source": [
    "plt.scatter(x=data.Administration, y=data.Profit)"
   ]
  },
  {
   "cell_type": "code",
   "execution_count": 10,
   "id": "e2b4353d",
   "metadata": {},
   "outputs": [
    {
     "data": {
      "text/plain": [
       "<matplotlib.collections.PathCollection at 0x20ed33d61f0>"
      ]
     },
     "execution_count": 10,
     "metadata": {},
     "output_type": "execute_result"
    },
    {
     "data": {
      "image/png": "[encoded data removed]",
      "text/plain": [
       "<Figure size 432x288 with 1 Axes>"
      ]
     },
     "metadata": {
      "needs_background": "light"
     },
     "output_type": "display_data"
    }
   ],
   "source": [
    "plt.scatter(x=data['Marketing Spend'], y=data.Profit)"
   ]
  },
  {
   "cell_type": "code",
   "execution_count": 11,
   "id": "3aa626ab",
   "metadata": {},
   "outputs": [
    {
     "data": {
      "text/plain": [
       "<matplotlib.collections.PathCollection at 0x20ed3426be0>"
      ]
     },
     "execution_count": 11,
     "metadata": {},
     "output_type": "execute_result"
    },
    {
     "data": {
      "image/png": "[encoded data removed]",
      "text/plain": [
       "<Figure size 432x288 with 1 Axes>"
      ]
     },
     "metadata": {
      "needs_background": "light"
     },
     "output_type": "display_data"
    }
   ],
   "source": [
    "plt.scatter(x=data.State_California, y=data.Profit)"
   ]
  },
  {
   "cell_type": "code",
   "execution_count": 12,
   "id": "2015f5eb",
   "metadata": {},
   "outputs": [
    {
     "data": {
      "text/plain": [
       "<matplotlib.collections.PathCollection at 0x20ed33a34c0>"
      ]
     },
     "execution_count": 12,
     "metadata": {},
     "output_type": "execute_result"
    },
    {
     "data": {
      "image/png": "[encoded data removed]",
      "text/plain": [
       "<Figure size 432x288 with 1 Axes>"
      ]
     },
     "metadata": {
      "needs_background": "light"
     },
     "output_type": "display_data"
    }
   ],
   "source": [
    "plt.scatter(x=data.State_Florida, y=data.Profit)"
   ]
  },
  {
   "cell_type": "code",
   "execution_count": 13,
   "id": "dc0e887e",
   "metadata": {},
   "outputs": [
    {
     "data": {
      "text/plain": [
       "<matplotlib.collections.PathCollection at 0x20ed34bf5b0>"
      ]
     },
     "execution_count": 13,
     "metadata": {},
     "output_type": "execute_result"
    },
    {
     "data": {
      "image/png": "[encoded data removed]",
      "text/plain": [
       "<Figure size 432x288 with 1 Axes>"
      ]
     },
     "metadata": {
      "needs_background": "light"
     },
     "output_type": "display_data"
    }
   ],
   "source": [
    "plt.scatter(x=data['State_New York'], y=data.Profit)"
   ]
  },
  {
   "cell_type": "code",
   "execution_count": 14,
   "id": "1239c4fa",
   "metadata": {},
   "outputs": [
    {
     "data": {
      "text/plain": [
       "<seaborn.axisgrid.PairGrid at 0x20ed34d2fa0>"
      ]
     },
     "execution_count": 14,
     "metadata": {},
     "output_type": "execute_result"
    },
    {
     "data": {
      "image/png": "[encoded data removed]",
      "text/plain": [
       "<Figure size 1260x1260 with 56 Axes>"
      ]
     },
     "metadata": {
      "needs_background": "light"
     },
     "output_type": "display_data"
    }
   ],
   "source": [
    "sns.pairplot(data)"
   ]
  },
  {
   "cell_type": "code",
   "execution_count": 15,
   "id": "f6ec9d47",
   "metadata": {},
   "outputs": [
    {
     "data": {
      "text/html": [
       "<div>\n",
       "<style scoped>\n",
       "    .dataframe tbody tr th:only-of-type {\n",
       "        vertical-align: middle;\n",
       "    }\n",
       "\n",
       "    .dataframe tbody tr th {\n",
       "        vertical-align: top;\n",
       "    }\n",
       "\n",
       "    .dataframe thead th {\n",
       "        text-align: right;\n",
       "    }\n",
       "</style>\n",
       "<table border=\"1\" class=\"dataframe\">\n",
       "  <thead>\n",
       "    <tr style=\"text-align: right;\">\n",
       "      <th></th>\n",
       "      <th>R&amp;D Spend</th>\n",
       "      <th>Administration</th>\n",
       "      <th>Marketing Spend</th>\n",
       "      <th>Profit</th>\n",
       "      <th>State_California</th>\n",
       "      <th>State_Florida</th>\n",
       "      <th>State_New York</th>\n",
       "    </tr>\n",
       "  </thead>\n",
       "  <tbody>\n",
       "    <tr>\n",
       "      <th>R&amp;D Spend</th>\n",
       "      <td>1.000000</td>\n",
       "      <td>0.241955</td>\n",
       "      <td>0.724248</td>\n",
       "      <td>0.972900</td>\n",
       "      <td>-0.143165</td>\n",
       "      <td>0.105711</td>\n",
       "      <td>0.039068</td>\n",
       "    </tr>\n",
       "    <tr>\n",
       "      <th>Administration</th>\n",
       "      <td>0.241955</td>\n",
       "      <td>1.000000</td>\n",
       "      <td>-0.032154</td>\n",
       "      <td>0.200717</td>\n",
       "      <td>-0.015478</td>\n",
       "      <td>0.010493</td>\n",
       "      <td>0.005145</td>\n",
       "    </tr>\n",
       "    <tr>\n",
       "      <th>Marketing Spend</th>\n",
       "      <td>0.724248</td>\n",
       "      <td>-0.032154</td>\n",
       "      <td>1.000000</td>\n",
       "      <td>0.747766</td>\n",
       "      <td>-0.168875</td>\n",
       "      <td>0.205685</td>\n",
       "      <td>-0.033670</td>\n",
       "    </tr>\n",
       "    <tr>\n",
       "      <th>Profit</th>\n",
       "      <td>0.972900</td>\n",
       "      <td>0.200717</td>\n",
       "      <td>0.747766</td>\n",
       "      <td>1.000000</td>\n",
       "      <td>-0.145837</td>\n",
       "      <td>0.116244</td>\n",
       "      <td>0.031368</td>\n",
       "    </tr>\n",
       "    <tr>\n",
       "      <th>State_California</th>\n",
       "      <td>-0.143165</td>\n",
       "      <td>-0.015478</td>\n",
       "      <td>-0.168875</td>\n",
       "      <td>-0.145837</td>\n",
       "      <td>1.000000</td>\n",
       "      <td>-0.492366</td>\n",
       "      <td>-0.515152</td>\n",
       "    </tr>\n",
       "    <tr>\n",
       "      <th>State_Florida</th>\n",
       "      <td>0.105711</td>\n",
       "      <td>0.010493</td>\n",
       "      <td>0.205685</td>\n",
       "      <td>0.116244</td>\n",
       "      <td>-0.492366</td>\n",
       "      <td>1.000000</td>\n",
       "      <td>-0.492366</td>\n",
       "    </tr>\n",
       "    <tr>\n",
       "      <th>State_New York</th>\n",
       "      <td>0.039068</td>\n",
       "      <td>0.005145</td>\n",
       "      <td>-0.033670</td>\n",
       "      <td>0.031368</td>\n",
       "      <td>-0.515152</td>\n",
       "      <td>-0.492366</td>\n",
       "      <td>1.000000</td>\n",
       "    </tr>\n",
       "  </tbody>\n",
       "</table>\n",
       "</div>"
      ],
      "text/plain": [
       "                  R&D Spend  Administration  Marketing Spend    Profit  \\\n",
       "R&D Spend          1.000000        0.241955         0.724248  0.972900   \n",
       "Administration     0.241955        1.000000        -0.032154  0.200717   \n",
       "Marketing Spend    0.724248       -0.032154         1.000000  0.747766   \n",
       "Profit             0.972900        0.200717         0.747766  1.000000   \n",
       "State_California  -0.143165       -0.015478        -0.168875 -0.145837   \n",
       "State_Florida      0.105711        0.010493         0.205685  0.116244   \n",
       "State_New York     0.039068        0.005145        -0.033670  0.031368   \n",
       "\n",
       "                  State_California  State_Florida  State_New York  \n",
       "R&D Spend                -0.143165       0.105711        0.039068  \n",
       "Administration           -0.015478       0.010493        0.005145  \n",
       "Marketing Spend          -0.168875       0.205685       -0.033670  \n",
       "Profit                   -0.145837       0.116244        0.031368  \n",
       "State_California          1.000000      -0.492366       -0.515152  \n",
       "State_Florida            -0.492366       1.000000       -0.492366  \n",
       "State_New York           -0.515152      -0.492366        1.000000  "
      ]
     },
     "execution_count": 15,
     "metadata": {},
     "output_type": "execute_result"
    }
   ],
   "source": [
    "data.corr()"
   ]
  },
  {
   "cell_type": "code",
   "execution_count": 16,
   "id": "f763d36c",
   "metadata": {},
   "outputs": [
    {
     "name": "stdout",
     "output_type": "stream",
     "text": [
      "[19.604937249066566, 1.1849210076099637, 2.552858458745251, 20.30559281026129, 19.939371136591333, 19.77949232706901, 20.100086533770376]\n"
     ]
    }
   ],
   "source": [
    "X = np.array(data)\n",
    "\n",
    "from statsmodels.stats.outliers_influence import variance_inflation_factor\n",
    "\n",
    "vif = pd.DataFrame()\n",
    "vif = [variance_inflation_factor(X,i) for i in range(X.shape[1])]\n",
    "print(vif)\n",
    "X=pd.DataFrame()"
   ]
  },
  {
   "cell_type": "code",
   "execution_count": 17,
   "id": "af406dd4",
   "metadata": {},
   "outputs": [],
   "source": [
    "x = data.drop(columns='Profit')\n",
    "y = data['Profit']"
   ]
  },
  {
   "cell_type": "code",
   "execution_count": 18,
   "id": "44672d32",
   "metadata": {},
   "outputs": [
    {
     "data": {
      "text/html": [
       "<div>\n",
       "<style scoped>\n",
       "    .dataframe tbody tr th:only-of-type {\n",
       "        vertical-align: middle;\n",
       "    }\n",
       "\n",
       "    .dataframe tbody tr th {\n",
       "        vertical-align: top;\n",
       "    }\n",
       "\n",
       "    .dataframe thead th {\n",
       "        text-align: right;\n",
       "    }\n",
       "</style>\n",
       "<table border=\"1\" class=\"dataframe\">\n",
       "  <thead>\n",
       "    <tr style=\"text-align: right;\">\n",
       "      <th></th>\n",
       "      <th>R&amp;D Spend</th>\n",
       "      <th>Administration</th>\n",
       "      <th>Marketing Spend</th>\n",
       "      <th>State_California</th>\n",
       "      <th>State_Florida</th>\n",
       "      <th>State_New York</th>\n",
       "    </tr>\n",
       "  </thead>\n",
       "  <tbody>\n",
       "    <tr>\n",
       "      <th>0</th>\n",
       "      <td>165349.20</td>\n",
       "      <td>136897.80</td>\n",
       "      <td>471784.10</td>\n",
       "      <td>0</td>\n",
       "      <td>0</td>\n",
       "      <td>1</td>\n",
       "    </tr>\n",
       "    <tr>\n",
       "      <th>1</th>\n",
       "      <td>162597.70</td>\n",
       "      <td>151377.59</td>\n",
       "      <td>443898.53</td>\n",
       "      <td>1</td>\n",
       "      <td>0</td>\n",
       "      <td>0</td>\n",
       "    </tr>\n",
       "    <tr>\n",
       "      <th>2</th>\n",
       "      <td>153441.51</td>\n",
       "      <td>101145.55</td>\n",
       "      <td>407934.54</td>\n",
       "      <td>0</td>\n",
       "      <td>1</td>\n",
       "      <td>0</td>\n",
       "    </tr>\n",
       "    <tr>\n",
       "      <th>3</th>\n",
       "      <td>144372.41</td>\n",
       "      <td>118671.85</td>\n",
       "      <td>383199.62</td>\n",
       "      <td>0</td>\n",
       "      <td>0</td>\n",
       "      <td>1</td>\n",
       "    </tr>\n",
       "    <tr>\n",
       "      <th>4</th>\n",
       "      <td>142107.34</td>\n",
       "      <td>91391.77</td>\n",
       "      <td>366168.42</td>\n",
       "      <td>0</td>\n",
       "      <td>1</td>\n",
       "      <td>0</td>\n",
       "    </tr>\n",
       "  </tbody>\n",
       "</table>\n",
       "</div>"
      ],
      "text/plain": [
       "   R&D Spend  Administration  Marketing Spend  State_California  \\\n",
       "0  165349.20       136897.80        471784.10                 0   \n",
       "1  162597.70       151377.59        443898.53                 1   \n",
       "2  153441.51       101145.55        407934.54                 0   \n",
       "3  144372.41       118671.85        383199.62                 0   \n",
       "4  142107.34        91391.77        366168.42                 0   \n",
       "\n",
       "   State_Florida  State_New York  \n",
       "0              0               1  \n",
       "1              0               0  \n",
       "2              1               0  \n",
       "3              0               1  \n",
       "4              1               0  "
      ]
     },
     "execution_count": 18,
     "metadata": {},
     "output_type": "execute_result"
    }
   ],
   "source": [
    "x.head()"
   ]
  },
  {
   "cell_type": "code",
   "execution_count": 19,
   "id": "e6628faf",
   "metadata": {},
   "outputs": [
    {
     "data": {
      "text/plain": [
       "0    192261.83\n",
       "1    191792.06\n",
       "2    191050.39\n",
       "3    182901.99\n",
       "4    166187.94\n",
       "Name: Profit, dtype: float64"
      ]
     },
     "execution_count": 19,
     "metadata": {},
     "output_type": "execute_result"
    }
   ],
   "source": [
    "y.head()"
   ]
  },
  {
   "cell_type": "code",
   "execution_count": 20,
   "id": "dfde10e2",
   "metadata": {},
   "outputs": [],
   "source": [
    "x_train,x_test,y_train,y_test = train_test_split(x,y,test_size=0.3,random_state=42)"
   ]
  },
  {
   "cell_type": "code",
   "execution_count": 21,
   "id": "2186b2c2",
   "metadata": {},
   "outputs": [
    {
     "name": "stdout",
     "output_type": "stream",
     "text": [
      "(35, 6)\n",
      "(35,)\n",
      "(15, 6)\n",
      "(15,)\n"
     ]
    }
   ],
   "source": [
    "print(x_train.shape)\n",
    "print(y_train.shape)\n",
    "print(x_test.shape)\n",
    "print(y_test.shape)"
   ]
  },
  {
   "cell_type": "code",
   "execution_count": 22,
   "id": "07536f21",
   "metadata": {},
   "outputs": [
    {
     "data": {
      "text/plain": [
       "LinearRegression()"
      ]
     },
     "execution_count": 22,
     "metadata": {},
     "output_type": "execute_result"
    }
   ],
   "source": [
    "linear_model = LinearRegression()\n",
    "linear_model.fit(x_train,y_train)"
   ]
  },
  {
   "cell_type": "code",
   "execution_count": 23,
   "id": "2d6532f6",
   "metadata": {},
   "outputs": [
    {
     "data": {
      "text/plain": [
       "Ridge()"
      ]
     },
     "execution_count": 23,
     "metadata": {},
     "output_type": "execute_result"
    }
   ],
   "source": [
    "ridge_model = Ridge()\n",
    "ridge_model.fit(x_train,y_train)"
   ]
  },
  {
   "cell_type": "code",
   "execution_count": 24,
   "id": "8e32f880",
   "metadata": {},
   "outputs": [
    {
     "data": {
      "text/plain": [
       "Lasso()"
      ]
     },
     "execution_count": 24,
     "metadata": {},
     "output_type": "execute_result"
    }
   ],
   "source": [
    "lasso_model = Lasso()\n",
    "lasso_model.fit(x_train,y_train)"
   ]
  },
  {
   "cell_type": "code",
   "execution_count": 25,
   "id": "b3ee98d2",
   "metadata": {},
   "outputs": [
    {
     "data": {
      "text/plain": [
       "array([ 0.8890891 , -1.00022611, -0.78958092, -0.76036588,  0.38538399])"
      ]
     },
     "execution_count": 25,
     "metadata": {},
     "output_type": "execute_result"
    }
   ],
   "source": [
    "cv_score = cross_val_score(estimator=linear_model,X=x,y=y,cv=5)\n",
    "cv_score"
   ]
  },
  {
   "cell_type": "code",
   "execution_count": 26,
   "id": "c1c56492",
   "metadata": {},
   "outputs": [
    {
     "data": {
      "text/plain": [
       "array([ 0.88943844, -0.98588862, -0.76219257, -0.75576862,  0.38918751])"
      ]
     },
     "execution_count": 26,
     "metadata": {},
     "output_type": "execute_result"
    }
   ],
   "source": [
    "cv_score = cross_val_score(estimator=ridge_model,X=x,y=y,cv=5)\n",
    "cv_score"
   ]
  },
  {
   "cell_type": "code",
   "execution_count": 27,
   "id": "072513a2",
   "metadata": {},
   "outputs": [
    {
     "data": {
      "text/plain": [
       "array([ 0.88911985, -0.99979247, -0.78847095, -0.7600613 ,  0.38547958])"
      ]
     },
     "execution_count": 27,
     "metadata": {},
     "output_type": "execute_result"
    }
   ],
   "source": [
    "cv_score = cross_val_score(estimator=lasso_model,X=x,y=y,cv=5)\n",
    "cv_score"
   ]
  },
  {
   "cell_type": "code",
   "execution_count": 28,
   "id": "a95a4e55",
   "metadata": {},
   "outputs": [
    {
     "data": {
      "text/plain": [
       "array([155921.27674876,  77208.49795044,  56699.64765224,  45053.8900705 ,\n",
       "       144519.42380621, 155331.67809095, 116531.06376223, 113078.44588257,\n",
       "        86308.44745627,  93929.25452826, 190021.93909165,  61932.35539078,\n",
       "       112463.86396514,  99159.28659864, 163405.78914522,  98027.50915478,\n",
       "       137080.30550734,  74993.46531006, 186938.24621017, 113655.89174396,\n",
       "       183600.80769199,  58031.35484446,  91222.97165153, 111133.59648917,\n",
       "        74589.73702978, 136243.70997923, 114740.16696175, 129581.20159297,\n",
       "        48004.85201342, 116783.64725802, 158562.13360413,  71818.05046182,\n",
       "       147330.95975595,  97686.32641369,  71642.66618593])"
      ]
     },
     "execution_count": 28,
     "metadata": {},
     "output_type": "execute_result"
    }
   ],
   "source": [
    "y_train_pred = linear_model.predict(x_train)\n",
    "y_train_pred"
   ]
  },
  {
   "cell_type": "code",
   "execution_count": 29,
   "id": "5e95c8b7",
   "metadata": {},
   "outputs": [
    {
     "data": {
      "text/plain": [
       "array([126187.39411512,  85788.82259491,  99777.02815161,  45706.12238325,\n",
       "       127062.20722786,  51891.83884406, 109114.62977498, 100600.61123707,\n",
       "        97953.99874704, 111730.57706801, 128818.49200667, 174195.35772605,\n",
       "        93736.28538396, 148381.04097173, 172313.87139382])"
      ]
     },
     "execution_count": 29,
     "metadata": {},
     "output_type": "execute_result"
    }
   ],
   "source": [
    "y_test_pred = linear_model.predict(x_test)\n",
    "y_test_pred"
   ]
  },
  {
   "cell_type": "code",
   "execution_count": 30,
   "id": "8fe2f02c",
   "metadata": {},
   "outputs": [
    {
     "name": "stdout",
     "output_type": "stream",
     "text": [
      "y_test_pred_ridge [126170.17410222  85763.18028032  99705.94384985  45782.96141809\n",
      " 127151.36490929  51950.22905633 109052.08702895 100578.83583866\n",
      "  97920.00804208 111793.44800938 128759.57051223 174127.89463308\n",
      "  93703.61406775 148467.82680542 172394.84298797]:\n",
      "y_train_pred_ridge [155882.96877209  77145.94664517  56665.88358601  45032.24554471\n",
      " 144595.71249036 155305.52003131 116515.05058673 113145.0539103\n",
      "  86303.65299632  94007.7092046  190111.87583305  61913.17337524\n",
      " 112561.86998554  99099.94356066 163482.88913638  98106.97822306\n",
      " 137049.53587905  74945.41070684 186928.14526549 113753.14335018\n",
      " 183537.5072583   58109.0378213   91300.67759902 111081.66693443\n",
      "  74575.30722533 136176.31991557 114690.79469453 129524.33375829\n",
      "  47983.40292003 116769.81170212 158506.76694621  71796.54869454\n",
      " 147273.69294571  97634.13504505  71719.74745647]:\n"
     ]
    }
   ],
   "source": [
    "y_test_pred_ridge = ridge_model.predict(x_test)\n",
    "y_train_pred_ridge = ridge_model.predict(x_train)\n",
    "print('y_test_pred_ridge {}:'.format(y_test_pred_ridge))\n",
    "print('y_train_pred_ridge {}:'.format(y_train_pred_ridge))"
   ]
  },
  {
   "cell_type": "code",
   "execution_count": 31,
   "id": "562179aa",
   "metadata": {},
   "outputs": [
    {
     "name": "stdout",
     "output_type": "stream",
     "text": [
      "y_test_pred_lasso [126187.57170669  85788.61575824  99773.12277927  45708.81663231\n",
      " 127065.77947028  51893.77453188 109111.13364099 100600.42422312\n",
      "  97953.12093254 111732.49695519 128815.34491466 174191.9936994\n",
      "  93735.82424014 148384.51711887 172317.20478956]:\n",
      "y_train_pred_lasso [155920.22868053  77205.17560086  56697.8452635   45053.56808215\n",
      " 144522.37907651 155331.5269876  116531.34781784 113080.83651064\n",
      "  86309.15159198  93932.05707227 190025.77746614  61932.14243292\n",
      " 112467.99958729  99156.13718872 163408.95015844  98030.38270111\n",
      " 137079.90184854  74990.81208273 186938.95406595 113659.86937895\n",
      " 183597.67577118  58034.12078605  91226.0255506  111130.91251283\n",
      "  74590.00754545 136240.15382441 114737.56967596 129578.23841798\n",
      "  48004.63312155 116784.09682892 158559.20339882  71817.99100191\n",
      " 147327.83395383  97683.24230384  71645.711712  ]:\n"
     ]
    }
   ],
   "source": [
    "y_test_pred_lasso = lasso_model.predict(x_test)\n",
    "y_train_pred_lasso = lasso_model.predict(x_train)\n",
    "print('y_test_pred_lasso {}:'.format(y_test_pred_lasso))\n",
    "print('y_train_pred_lasso {}:'.format(y_train_pred_lasso))"
   ]
  },
  {
   "cell_type": "code",
   "execution_count": 32,
   "id": "4a981045",
   "metadata": {},
   "outputs": [
    {
     "name": "stdout",
     "output_type": "stream",
     "text": [
      "MSE is : 81555412.19861057\n",
      "r2_score is : 0.9511471170962384\n"
     ]
    }
   ],
   "source": [
    "print('MSE is :',mean_squared_error(y_train,y_train_pred))\n",
    "print('r2_score is :',r2_score(y_train,y_train_pred))"
   ]
  },
  {
   "cell_type": "code",
   "execution_count": 33,
   "id": "d098ef2f",
   "metadata": {},
   "outputs": [
    {
     "name": "stdout",
     "output_type": "stream",
     "text": [
      "MSE is : 84826955.03371611\n",
      "r2_score is : 0.9397108063367285\n"
     ]
    }
   ],
   "source": [
    "print('MSE is :',mean_squared_error(y_test,y_test_pred))\n",
    "print('r2_score is :',r2_score(y_test,y_test_pred))"
   ]
  },
  {
   "cell_type": "code",
   "execution_count": 34,
   "id": "363d4d45",
   "metadata": {},
   "outputs": [
    {
     "name": "stdout",
     "output_type": "stream",
     "text": [
      "MSE is : 81558736.34066105\n",
      "r2_score is : 0.951145125886606\n"
     ]
    }
   ],
   "source": [
    "print('MSE is :',mean_squared_error(y_train,y_train_pred_ridge))\n",
    "print('r2_score is :',r2_score(y_train,y_train_pred_ridge))"
   ]
  },
  {
   "cell_type": "code",
   "execution_count": 35,
   "id": "ab2e6876",
   "metadata": {},
   "outputs": [
    {
     "name": "stdout",
     "output_type": "stream",
     "text": [
      "MSE is : 84533674.92476283\n",
      "r2_score is : 0.9399192497646371\n"
     ]
    }
   ],
   "source": [
    "print('MSE is :',mean_squared_error(y_test,y_test_pred_ridge))\n",
    "print('r2_score is :',r2_score(y_test,y_test_pred_ridge))"
   ]
  },
  {
   "cell_type": "code",
   "execution_count": 36,
   "id": "10d73658",
   "metadata": {},
   "outputs": [
    {
     "name": "stdout",
     "output_type": "stream",
     "text": [
      "MSE is : 81555418.52999641\n",
      "r2_score is : 0.9511471133036459\n"
     ]
    }
   ],
   "source": [
    "print('MSE is :',mean_squared_error(y_train,y_train_pred_lasso))\n",
    "print('r2_score is :',r2_score(y_train,y_train_pred_lasso))"
   ]
  },
  {
   "cell_type": "code",
   "execution_count": 37,
   "id": "35334d12",
   "metadata": {},
   "outputs": [
    {
     "name": "stdout",
     "output_type": "stream",
     "text": [
      "MSE is : 84815563.97509885\n",
      "r2_score is : 0.9397189023215335\n"
     ]
    }
   ],
   "source": [
    "print('MSE is :',mean_squared_error(y_test,y_test_pred_lasso))\n",
    "print('r2_score is :',r2_score(y_test,y_test_pred_lasso))"
   ]
  },
  {
   "cell_type": "code",
   "execution_count": 38,
   "id": "d6163479",
   "metadata": {},
   "outputs": [],
   "source": [
    "std = StandardScaler()\n",
    "data_std = std.fit_transform(data)\n",
    "data_std = pd.DataFrame(data_std, columns = data.columns)"
   ]
  },
  {
   "cell_type": "code",
   "execution_count": 39,
   "id": "b38e24c8",
   "metadata": {},
   "outputs": [],
   "source": [
    "import statsmodels.api as sm"
   ]
  },
  {
   "cell_type": "code",
   "execution_count": 40,
   "id": "e4aa2175",
   "metadata": {},
   "outputs": [
    {
     "name": "stdout",
     "output_type": "stream",
     "text": [
      "                            OLS Regression Results                            \n",
      "==============================================================================\n",
      "Dep. Variable:                 Profit   R-squared:                       0.951\n",
      "Model:                            OLS   Adj. R-squared:                  0.943\n",
      "Method:                 Least Squares   F-statistic:                     112.9\n",
      "Date:                Sat, 28 Aug 2021   Prob (F-statistic):           4.27e-18\n",
      "Time:                        09:39:52   Log-Likelihood:                -368.46\n",
      "No. Observations:                  35   AIC:                             748.9\n",
      "Df Residuals:                      29   BIC:                             758.2\n",
      "Df Model:                           5                                         \n",
      "Covariance Type:            nonrobust                                         \n",
      "====================================================================================\n",
      "                       coef    std err          t      P>|t|      [0.025      0.975]\n",
      "------------------------------------------------------------------------------------\n",
      "R&D Spend            0.8049      0.056     14.447      0.000       0.691       0.919\n",
      "Administration      -0.0913      0.072     -1.276      0.212      -0.238       0.055\n",
      "Marketing Spend      0.0281      0.023      1.218      0.233      -0.019       0.075\n",
      "State_California  5.741e+04      1e+04      5.714      0.000    3.69e+04     7.8e+04\n",
      "State_Florida     5.787e+04   1.04e+04      5.543      0.000    3.65e+04    7.92e+04\n",
      "State_New York    5.618e+04   9954.594      5.643      0.000    3.58e+04    7.65e+04\n",
      "==============================================================================\n",
      "Omnibus:                       17.796   Durbin-Watson:                   1.660\n",
      "Prob(Omnibus):                  0.000   Jarque-Bera (JB):               25.972\n",
      "Skew:                          -1.317   Prob(JB):                     2.29e-06\n",
      "Kurtosis:                       6.297   Cond. No.                     2.94e+06\n",
      "==============================================================================\n",
      "\n",
      "Notes:\n",
      "[1] Standard Errors assume that the covariance matrix of the errors is correctly specified.\n",
      "[2] The condition number is large, 2.94e+06. This might indicate that there are\n",
      "strong multicollinearity or other numerical problems.\n"
     ]
    }
   ],
   "source": [
    "model = sm.OLS(y_train,x_train).fit()\n",
    "print(model.summary())"
   ]
  },
  {
   "cell_type": "code",
   "execution_count": 41,
   "id": "c5061a17",
   "metadata": {},
   "outputs": [],
   "source": [
    "import warnings\n",
    "warnings.filterwarnings('ignore')"
   ]
  },
  {
   "cell_type": "code",
   "execution_count": 42,
   "id": "8e5c6d74",
   "metadata": {},
   "outputs": [
    {
     "name": "stdout",
     "output_type": "stream",
     "text": [
      "                            OLS Regression Results                            \n",
      "==============================================================================\n",
      "Dep. Variable:                 Profit   R-squared:                       0.967\n",
      "Model:                            OLS   Adj. R-squared:                  0.949\n",
      "Method:                 Least Squares   F-statistic:                     53.35\n",
      "Date:                Sat, 28 Aug 2021   Prob (F-statistic):           2.04e-06\n",
      "Time:                        09:39:52   Log-Likelihood:                -153.60\n",
      "No. Observations:                  15   AIC:                             319.2\n",
      "Df Residuals:                       9   BIC:                             323.5\n",
      "Df Model:                           5                                         \n",
      "Covariance Type:            nonrobust                                         \n",
      "====================================================================================\n",
      "                       coef    std err          t      P>|t|      [0.025      0.975]\n",
      "------------------------------------------------------------------------------------\n",
      "R&D Spend            0.7324      0.126      5.809      0.000       0.447       1.018\n",
      "Administration       0.1141      0.093      1.224      0.252      -0.097       0.325\n",
      "Marketing Spend      0.0456      0.037      1.239      0.247      -0.038       0.129\n",
      "State_California  3.802e+04   9845.393      3.862      0.004    1.57e+04    6.03e+04\n",
      "State_Florida     3.678e+04   1.04e+04      3.529      0.006    1.32e+04    6.04e+04\n",
      "State_New York     3.78e+04   1.04e+04      3.639      0.005    1.43e+04    6.13e+04\n",
      "==============================================================================\n",
      "Omnibus:                        0.588   Durbin-Watson:                   1.991\n",
      "Prob(Omnibus):                  0.745   Jarque-Bera (JB):                0.595\n",
      "Skew:                           0.155   Prob(JB):                        0.743\n",
      "Kurtosis:                       2.074   Cond. No.                     1.87e+06\n",
      "==============================================================================\n",
      "\n",
      "Notes:\n",
      "[1] Standard Errors assume that the covariance matrix of the errors is correctly specified.\n",
      "[2] The condition number is large, 1.87e+06. This might indicate that there are\n",
      "strong multicollinearity or other numerical problems.\n"
     ]
    }
   ],
   "source": [
    "model = sm.OLS(y_test,x_test).fit()\n",
    "print(model.summary())"
   ]
  },
  {
   "cell_type": "code",
   "execution_count": 43,
   "id": "8908269b",
   "metadata": {},
   "outputs": [
    {
     "data": {
      "text/plain": [
       "RandomForestRegressor(n_estimators=1200, random_state=0)"
      ]
     },
     "execution_count": 43,
     "metadata": {},
     "output_type": "execute_result"
    }
   ],
   "source": [
    "rf = RandomForestRegressor( n_estimators=1200,random_state = 0)\n",
    "rf.fit(x_train,y_train)"
   ]
  },
  {
   "cell_type": "code",
   "execution_count": 44,
   "id": "37f78bfc",
   "metadata": {},
   "outputs": [
    {
     "data": {
      "text/plain": [
       "DecisionTreeRegressor(max_depth=3, random_state=45)"
      ]
     },
     "execution_count": 44,
     "metadata": {},
     "output_type": "execute_result"
    }
   ],
   "source": [
    "dt = DecisionTreeRegressor(criterion='mse',max_depth=3,random_state=45)\n",
    "dt.fit(x_train,y_train)"
   ]
  },
  {
   "cell_type": "code",
   "execution_count": 45,
   "id": "d6968f13",
   "metadata": {},
   "outputs": [],
   "source": [
    "y_train_dt_pred = dt.predict(x_train)"
   ]
  },
  {
   "cell_type": "code",
   "execution_count": 46,
   "id": "7ab883b1",
   "metadata": {},
   "outputs": [],
   "source": [
    "y_test_dt_pred =dt.predict(x_test)"
   ]
  },
  {
   "cell_type": "code",
   "execution_count": 47,
   "id": "12da1d06",
   "metadata": {},
   "outputs": [
    {
     "name": "stdout",
     "output_type": "stream",
     "text": [
      "MSE is : 56769268.531771734\n",
      "r2_score is : 0.9659943791178326\n"
     ]
    }
   ],
   "source": [
    "print('MSE is :',mean_squared_error(y_train,y_train_dt_pred))\n",
    "print('r2_score is :',r2_score(y_train,y_train_dt_pred))"
   ]
  },
  {
   "cell_type": "code",
   "execution_count": 48,
   "id": "dcb52e30",
   "metadata": {},
   "outputs": [
    {
     "name": "stdout",
     "output_type": "stream",
     "text": [
      "MSE is : 188614069.9831429\n",
      "r2_score is : 0.8659460287321199\n"
     ]
    }
   ],
   "source": [
    "print('MSE is :',mean_squared_error(y_test,y_test_dt_pred))\n",
    "print('r2_score is :',r2_score(y_test,y_test_dt_pred))"
   ]
  },
  {
   "cell_type": "code",
   "execution_count": 49,
   "id": "b8af7438",
   "metadata": {},
   "outputs": [],
   "source": [
    "y_train_rf_pred = rf.predict(x_train)"
   ]
  },
  {
   "cell_type": "code",
   "execution_count": 50,
   "id": "ff1f4bb5",
   "metadata": {},
   "outputs": [],
   "source": [
    "y_test_rf_pred = rf.predict(x_test)"
   ]
  },
  {
   "cell_type": "code",
   "execution_count": 51,
   "id": "6362e5c9",
   "metadata": {},
   "outputs": [
    {
     "name": "stdout",
     "output_type": "stream",
     "text": [
      "MSE is : 13462940.542209655\n",
      "r2_score is : 0.9659943791178326\n"
     ]
    }
   ],
   "source": [
    "print('MSE is :',mean_squared_error(y_train,y_train_rf_pred))\n",
    "print('r2_score is :',r2_score(y_train,y_train_dt_pred))"
   ]
  },
  {
   "cell_type": "code",
   "execution_count": 52,
   "id": "75f242c4",
   "metadata": {},
   "outputs": [
    {
     "name": "stdout",
     "output_type": "stream",
     "text": [
      "MSE is : 90454131.10438965\n",
      "r2_score is : 0.8659460287321199\n"
     ]
    }
   ],
   "source": [
    "print('MSE is :',mean_squared_error(y_test,y_test_rf_pred))\n",
    "print('r2_score is :',r2_score(y_test,y_test_dt_pred))"
   ]
  },
  {
   "cell_type": "markdown",
   "id": "88a09539",
   "metadata": {},
   "source": [
    "LINEAR MODEL \n",
    "TRAIN: r2_score is : 0.9511471170962384\n",
    "TEST: r2_score is : 0.9397108063367285\n",
    "DECISIONTREE REGRESSOR\n",
    "TRAIN: r2_score is : 0.9659943791178326\n",
    "TEST: r2_score is : 0.8659460287321199\n",
    "RANDOMFOREST REGRESSOR \n",
    "TRAIN: r2_score is : 0.9659943791178326\n",
    "TEST: r2_score is : 0.8659460287321199\n",
    "LASSO MODEL\n",
    "TRAIN:r2_score is : 0.9511471133036459\n",
    "TEST:r2_score is : 0.9397189023215335\n",
    "RIDGE MODEL\n",
    "TRAIN:r2_score is : 0.951145125886606\n",
    "TEST:r2_score is : 0.9399192497646371"
   ]
  },
  {
   "cell_type": "code",
   "execution_count": null,
   "id": "930e068a",
   "metadata": {},
   "outputs": [],
   "source": []
  },
  {
   "cell_type": "code",
   "execution_count": null,
   "id": "cbadc408",
   "metadata": {},
   "outputs": [],
   "source": []
  }
 ],
 "metadata": {
  "kernelspec": {
   "display_name": "Python 3",
   "language": "python",
   "name": "python3"
  },
  "language_info": {
   "codemirror_mode": {
    "name": "ipython",
    "version": 3
   },
   "file_extension": ".py",
   "mimetype": "text/x-python",
   "name": "python",
   "nbconvert_exporter": "python",
   "pygments_lexer": "ipython3",
   "version": "3.8.8"
  }
 },
 "nbformat": 4,
 "nbformat_minor": 5
}
